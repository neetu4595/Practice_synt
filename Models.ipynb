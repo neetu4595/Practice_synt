{
 "cells": [
  {
   "cell_type": "code",
   "execution_count": 1,
   "id": "e10d3c04",
   "metadata": {},
   "outputs": [],
   "source": [
    "import os"
   ]
  },
  {
   "cell_type": "code",
   "execution_count": 2,
   "id": "b16c7613",
   "metadata": {},
   "outputs": [
    {
     "name": "stderr",
     "output_type": "stream",
     "text": [
      "fatal: destination path 'tab-ddpm' already exists and is not an empty directory.\n"
     ]
    }
   ],
   "source": [
    "! git clone https://github.com/yandex-research/tab-ddpm"
   ]
  },
  {
   "cell_type": "code",
   "execution_count": 3,
   "id": "7ec398ee",
   "metadata": {},
   "outputs": [],
   "source": [
    "# Get the current working directory\n",
    "current_dir = os.getcwd()"
   ]
  },
  {
   "cell_type": "code",
   "execution_count": 4,
   "id": "b512125d",
   "metadata": {},
   "outputs": [],
   "source": [
    "# Set the environment variable\n",
    "os.environ['REPO_DIR'] = current_dir"
   ]
  },
  {
   "cell_type": "code",
   "execution_count": 5,
   "id": "e3dda6a4-60b3-487c-b1f4-fb8bd3583b1b",
   "metadata": {},
   "outputs": [],
   "source": [
    "REPO_DIR = os.environ['REPO_DIR']"
   ]
  },
  {
   "cell_type": "code",
   "execution_count": 6,
   "id": "50027de6-88d6-47c3-a528-c3ccba60f57f",
   "metadata": {},
   "outputs": [],
   "source": [
    "# Assuming your project directory is 'tab-ddpm' within the current working directory\n",
    "REPO_DIR = os.path.join(REPO_DIR, 'tab-ddpm')"
   ]
  },
  {
   "cell_type": "code",
   "execution_count": 7,
   "id": "0b53dfe5-245a-49e0-aadc-712c89023ae8",
   "metadata": {},
   "outputs": [
    {
     "name": "stdout",
     "output_type": "stream",
     "text": [
      "C:\\Users\\neetu\\Documents\\Untitled_Folder\\tab-ddpm\n"
     ]
    }
   ],
   "source": [
    "# change the current directory to REPO_DIR\n",
    "%cd $REPO_DIR"
   ]
  },
  {
   "cell_type": "code",
   "execution_count": 8,
   "id": "486a1204-8f95-4440-a90e-20d6c0c86b3d",
   "metadata": {},
   "outputs": [],
   "source": [
    "# deactivate the anaconda environment\n",
    "! conda deactivate"
   ]
  },
  {
   "cell_type": "code",
   "execution_count": 9,
   "id": "1a5f207d-7751-49bb-ae11-3d370498296d",
   "metadata": {},
   "outputs": [],
   "source": [
    "# reactivate the anaconda environent tddpm\n",
    "!conda activate tddpm"
   ]
  },
  {
   "cell_type": "code",
   "execution_count": 10,
   "id": "da469bfd-7aea-4a95-aa9c-3db3df40176f",
   "metadata": {},
   "outputs": [
    {
     "name": "stdout",
     "output_type": "stream",
     "text": [
      "Looking in links: https://download.pytorch.org/whl/cu111/torch_stable.html\n",
      "Requirement already satisfied: torch==1.10.1+cu111 in c:\\users\\neetu\\anaconda3\\envs\\tddpm\\lib\\site-packages (1.10.1+cu111)\n"
     ]
    },
    {
     "name": "stderr",
     "output_type": "stream",
     "text": [
      "ERROR: Ignored the following yanked versions: 0.1.6, 0.1.7, 0.1.8, 0.1.9, 0.2.0, 0.2.1, 0.2.2, 0.2.2.post2, 0.2.2.post3, 0.11.0, 0.15.0\n",
      "ERROR: Could not find a version that satisfies the requirement torchvision==0.11.2+cu111 (from versions: 0.1.6, 0.2.0, 0.9.0, 0.9.0+cu111, 0.9.1, 0.9.1+cu111, 0.10.0, 0.10.0+cu111, 0.10.1, 0.10.1+cu111, 0.11.1, 0.11.2, 0.11.3, 0.12.0, 0.13.0, 0.13.1, 0.14.0, 0.14.1, 0.15.1, 0.15.2, 0.16.0, 0.16.1, 0.16.2, 0.17.0, 0.17.1)\n",
      "ERROR: No matching distribution found for torchvision==0.11.2+cu111\n"
     ]
    }
   ],
   "source": [
    "!pip install torch==1.10.1+cu111 torchvision==0.11.2+cu111 torchaudio===0.10.1+cu111 -f https://download.pytorch.org/whl/cu111/torch_stable.html"
   ]
  },
  {
   "cell_type": "code",
   "execution_count": 10,
   "id": "907d1f0b",
   "metadata": {},
   "outputs": [
    {
     "name": "stdout",
     "output_type": "stream",
     "text": [
      "Looking in links: https://download.pytorch.org/whl/torch_stable.html\n",
      "Requirement already satisfied: torch==1.10.1+cu111 in c:\\users\\neetu\\anaconda3\\envs\\tddpm\\lib\\site-packages (1.10.1+cu111)\n",
      "Requirement already satisfied: typing-extensions in c:\\users\\neetu\\anaconda3\\envs\\tddpm\\lib\\site-packages (from torch==1.10.1+cu111) (4.9.0)\n",
      "Note: you may need to restart the kernel to use updated packages.\n"
     ]
    }
   ],
   "source": [
    "#pip install torch==1.10.1+cu111 -f https://download.pytorch.org/whl/torch_stable.html"
   ]
  },
  {
   "cell_type": "code",
   "execution_count": 11,
   "id": "396a64b3-d7bb-49d1-9786-3ae290da9544",
   "metadata": {},
   "outputs": [
    {
     "name": "stdout",
     "output_type": "stream",
     "text": [
      "Requirement already satisfied: catboost==1.0.3 in c:\\users\\neetu\\anaconda3\\envs\\tddpm\\lib\\site-packages (from -r requirements.txt (line 1)) (1.0.3)\n",
      "Requirement already satisfied: category-encoders==2.3.0 in c:\\users\\neetu\\anaconda3\\envs\\tddpm\\lib\\site-packages (from -r requirements.txt (line 2)) (2.3.0)\n",
      "Requirement already satisfied: dython==0.5.1 in c:\\users\\neetu\\anaconda3\\envs\\tddpm\\lib\\site-packages (from -r requirements.txt (line 3)) (0.5.1)\n",
      "Requirement already satisfied: icecream==2.1.2 in c:\\users\\neetu\\anaconda3\\envs\\tddpm\\lib\\site-packages (from -r requirements.txt (line 4)) (2.1.2)\n",
      "Requirement already satisfied: libzero==0.0.8 in c:\\users\\neetu\\anaconda3\\envs\\tddpm\\lib\\site-packages (from -r requirements.txt (line 5)) (0.0.8)\n",
      "Requirement already satisfied: numpy==1.21.4 in c:\\users\\neetu\\anaconda3\\envs\\tddpm\\lib\\site-packages (from -r requirements.txt (line 6)) (1.21.4)\n",
      "Requirement already satisfied: optuna==2.10.1 in c:\\users\\neetu\\anaconda3\\envs\\tddpm\\lib\\site-packages (from -r requirements.txt (line 7)) (2.10.1)\n",
      "Requirement already satisfied: pandas==1.3.4 in c:\\users\\neetu\\anaconda3\\envs\\tddpm\\lib\\site-packages (from -r requirements.txt (line 8)) (1.3.4)\n",
      "Requirement already satisfied: pyarrow==6.0.0 in c:\\users\\neetu\\anaconda3\\envs\\tddpm\\lib\\site-packages (from -r requirements.txt (line 9)) (6.0.0)\n",
      "Requirement already satisfied: rtdl==0.0.9 in c:\\users\\neetu\\anaconda3\\envs\\tddpm\\lib\\site-packages (from -r requirements.txt (line 10)) (0.0.9)\n",
      "Requirement already satisfied: scikit-learn==1.0.2 in c:\\users\\neetu\\anaconda3\\envs\\tddpm\\lib\\site-packages (from -r requirements.txt (line 11)) (1.0.2)\n",
      "Requirement already satisfied: scipy==1.7.2 in c:\\users\\neetu\\anaconda3\\envs\\tddpm\\lib\\site-packages (from -r requirements.txt (line 12)) (1.7.2)\n",
      "Requirement already satisfied: skorch==0.11.0 in c:\\users\\neetu\\anaconda3\\envs\\tddpm\\lib\\site-packages (from -r requirements.txt (line 13)) (0.11.0)\n",
      "Requirement already satisfied: tomli-w==0.4.0 in c:\\users\\neetu\\anaconda3\\envs\\tddpm\\lib\\site-packages (from -r requirements.txt (line 14)) (0.4.0)\n",
      "Requirement already satisfied: tomli==1.2.2 in c:\\users\\neetu\\anaconda3\\envs\\tddpm\\lib\\site-packages (from -r requirements.txt (line 15)) (1.2.2)\n",
      "Requirement already satisfied: tqdm==4.62.3 in c:\\users\\neetu\\anaconda3\\envs\\tddpm\\lib\\site-packages (from -r requirements.txt (line 16)) (4.62.3)\n",
      "Requirement already satisfied: imbalanced-learn==0.7.0 in c:\\users\\neetu\\anaconda3\\envs\\tddpm\\lib\\site-packages (from -r requirements.txt (line 19)) (0.7.0)\n",
      "Requirement already satisfied: rdt==0.6.4 in c:\\users\\neetu\\anaconda3\\envs\\tddpm\\lib\\site-packages (from -r requirements.txt (line 22)) (0.6.4)\n",
      "Requirement already satisfied: graphviz in c:\\users\\neetu\\anaconda3\\envs\\tddpm\\lib\\site-packages (from catboost==1.0.3->-r requirements.txt (line 1)) (0.20.1)\n",
      "Requirement already satisfied: matplotlib in c:\\users\\neetu\\anaconda3\\envs\\tddpm\\lib\\site-packages (from catboost==1.0.3->-r requirements.txt (line 1)) (3.8.3)\n",
      "Requirement already satisfied: plotly in c:\\users\\neetu\\anaconda3\\envs\\tddpm\\lib\\site-packages (from catboost==1.0.3->-r requirements.txt (line 1)) (5.19.0)\n",
      "Requirement already satisfied: six in c:\\users\\neetu\\anaconda3\\envs\\tddpm\\lib\\site-packages (from catboost==1.0.3->-r requirements.txt (line 1)) (1.16.0)\n",
      "Requirement already satisfied: statsmodels>=0.9.0 in c:\\users\\neetu\\anaconda3\\envs\\tddpm\\lib\\site-packages (from category-encoders==2.3.0->-r requirements.txt (line 2)) (0.14.1)\n",
      "Requirement already satisfied: patsy>=0.5.1 in c:\\users\\neetu\\anaconda3\\envs\\tddpm\\lib\\site-packages (from category-encoders==2.3.0->-r requirements.txt (line 2)) (0.5.6)\n",
      "Requirement already satisfied: seaborn in c:\\users\\neetu\\anaconda3\\envs\\tddpm\\lib\\site-packages (from dython==0.5.1->-r requirements.txt (line 3)) (0.13.2)\n",
      "Requirement already satisfied: colorama>=0.3.9 in c:\\users\\neetu\\anaconda3\\envs\\tddpm\\lib\\site-packages (from icecream==2.1.2->-r requirements.txt (line 4)) (0.4.6)\n",
      "Requirement already satisfied: pygments>=2.2.0 in c:\\users\\neetu\\anaconda3\\envs\\tddpm\\lib\\site-packages (from icecream==2.1.2->-r requirements.txt (line 4)) (2.15.1)\n",
      "Requirement already satisfied: executing>=0.3.1 in c:\\users\\neetu\\anaconda3\\envs\\tddpm\\lib\\site-packages (from icecream==2.1.2->-r requirements.txt (line 4)) (0.8.3)\n",
      "Requirement already satisfied: asttokens>=2.0.1 in c:\\users\\neetu\\anaconda3\\envs\\tddpm\\lib\\site-packages (from icecream==2.1.2->-r requirements.txt (line 4)) (2.0.5)\n",
      "Requirement already satisfied: pynvml<12,>=11.0 in c:\\users\\neetu\\anaconda3\\envs\\tddpm\\lib\\site-packages (from libzero==0.0.8->-r requirements.txt (line 5)) (11.5.0)\n",
      "Requirement already satisfied: torch<2,>=1.7 in c:\\users\\neetu\\anaconda3\\envs\\tddpm\\lib\\site-packages (from libzero==0.0.8->-r requirements.txt (line 5)) (1.10.1+cu111)\n",
      "Requirement already satisfied: alembic in c:\\users\\neetu\\anaconda3\\envs\\tddpm\\lib\\site-packages (from optuna==2.10.1->-r requirements.txt (line 7)) (1.13.1)\n",
      "Requirement already satisfied: cliff in c:\\users\\neetu\\anaconda3\\envs\\tddpm\\lib\\site-packages (from optuna==2.10.1->-r requirements.txt (line 7)) (4.6.0)\n",
      "Requirement already satisfied: cmaes>=0.8.2 in c:\\users\\neetu\\anaconda3\\envs\\tddpm\\lib\\site-packages (from optuna==2.10.1->-r requirements.txt (line 7)) (0.10.0)\n",
      "Requirement already satisfied: colorlog in c:\\users\\neetu\\anaconda3\\envs\\tddpm\\lib\\site-packages (from optuna==2.10.1->-r requirements.txt (line 7)) (6.8.2)\n",
      "Requirement already satisfied: packaging>=20.0 in c:\\users\\neetu\\anaconda3\\envs\\tddpm\\lib\\site-packages (from optuna==2.10.1->-r requirements.txt (line 7)) (23.1)\n",
      "Requirement already satisfied: sqlalchemy>=1.1.0 in c:\\users\\neetu\\anaconda3\\envs\\tddpm\\lib\\site-packages (from optuna==2.10.1->-r requirements.txt (line 7)) (2.0.27)\n",
      "Requirement already satisfied: PyYAML in c:\\users\\neetu\\anaconda3\\envs\\tddpm\\lib\\site-packages (from optuna==2.10.1->-r requirements.txt (line 7)) (5.4.1)\n",
      "Requirement already satisfied: python-dateutil>=2.7.3 in c:\\users\\neetu\\anaconda3\\envs\\tddpm\\lib\\site-packages (from pandas==1.3.4->-r requirements.txt (line 8)) (2.8.2)\n",
      "Requirement already satisfied: pytz>=2017.3 in c:\\users\\neetu\\anaconda3\\envs\\tddpm\\lib\\site-packages (from pandas==1.3.4->-r requirements.txt (line 8)) (2023.3.post1)\n",
      "Requirement already satisfied: joblib>=0.11 in c:\\users\\neetu\\anaconda3\\envs\\tddpm\\lib\\site-packages (from scikit-learn==1.0.2->-r requirements.txt (line 11)) (1.3.2)\n",
      "Requirement already satisfied: threadpoolctl>=2.0.0 in c:\\users\\neetu\\anaconda3\\envs\\tddpm\\lib\\site-packages (from scikit-learn==1.0.2->-r requirements.txt (line 11)) (3.3.0)\n",
      "Requirement already satisfied: tabulate>=0.7.7 in c:\\users\\neetu\\anaconda3\\envs\\tddpm\\lib\\site-packages (from skorch==0.11.0->-r requirements.txt (line 13)) (0.9.0)\n",
      "Requirement already satisfied: psutil<6,>=5.7 in c:\\users\\neetu\\anaconda3\\envs\\tddpm\\lib\\site-packages (from rdt==0.6.4->-r requirements.txt (line 22)) (5.9.0)\n",
      "Requirement already satisfied: typing-extensions>=4.6.0 in c:\\users\\neetu\\anaconda3\\envs\\tddpm\\lib\\site-packages (from sqlalchemy>=1.1.0->optuna==2.10.1->-r requirements.txt (line 7)) (4.9.0)\n",
      "Requirement already satisfied: greenlet!=0.4.17 in c:\\users\\neetu\\anaconda3\\envs\\tddpm\\lib\\site-packages (from sqlalchemy>=1.1.0->optuna==2.10.1->-r requirements.txt (line 7)) (3.0.3)\n",
      "Requirement already satisfied: Mako in c:\\users\\neetu\\anaconda3\\envs\\tddpm\\lib\\site-packages (from alembic->optuna==2.10.1->-r requirements.txt (line 7)) (1.3.2)\n",
      "Requirement already satisfied: PrettyTable>=0.7.2 in c:\\users\\neetu\\anaconda3\\envs\\tddpm\\lib\\site-packages (from cliff->optuna==2.10.1->-r requirements.txt (line 7)) (3.10.0)\n",
      "Requirement already satisfied: autopage>=0.4.0 in c:\\users\\neetu\\anaconda3\\envs\\tddpm\\lib\\site-packages (from cliff->optuna==2.10.1->-r requirements.txt (line 7)) (0.5.2)\n",
      "Requirement already satisfied: cmd2>=1.0.0 in c:\\users\\neetu\\anaconda3\\envs\\tddpm\\lib\\site-packages (from cliff->optuna==2.10.1->-r requirements.txt (line 7)) (2.4.3)\n",
      "Requirement already satisfied: stevedore>=2.0.1 in c:\\users\\neetu\\anaconda3\\envs\\tddpm\\lib\\site-packages (from cliff->optuna==2.10.1->-r requirements.txt (line 7)) (5.1.0)\n",
      "Requirement already satisfied: importlib-metadata>=4.4 in c:\\users\\neetu\\anaconda3\\envs\\tddpm\\lib\\site-packages (from cliff->optuna==2.10.1->-r requirements.txt (line 7)) (7.0.1)\n",
      "Requirement already satisfied: contourpy>=1.0.1 in c:\\users\\neetu\\anaconda3\\envs\\tddpm\\lib\\site-packages (from matplotlib->catboost==1.0.3->-r requirements.txt (line 1)) (1.2.0)\n",
      "Requirement already satisfied: cycler>=0.10 in c:\\users\\neetu\\anaconda3\\envs\\tddpm\\lib\\site-packages (from matplotlib->catboost==1.0.3->-r requirements.txt (line 1)) (0.12.1)\n",
      "Requirement already satisfied: fonttools>=4.22.0 in c:\\users\\neetu\\anaconda3\\envs\\tddpm\\lib\\site-packages (from matplotlib->catboost==1.0.3->-r requirements.txt (line 1)) (4.49.0)\n",
      "Requirement already satisfied: kiwisolver>=1.3.1 in c:\\users\\neetu\\anaconda3\\envs\\tddpm\\lib\\site-packages (from matplotlib->catboost==1.0.3->-r requirements.txt (line 1)) (1.4.5)\n",
      "Requirement already satisfied: pillow>=8 in c:\\users\\neetu\\anaconda3\\envs\\tddpm\\lib\\site-packages (from matplotlib->catboost==1.0.3->-r requirements.txt (line 1)) (10.2.0)\n",
      "Requirement already satisfied: pyparsing>=2.3.1 in c:\\users\\neetu\\anaconda3\\envs\\tddpm\\lib\\site-packages (from matplotlib->catboost==1.0.3->-r requirements.txt (line 1)) (3.1.1)\n",
      "Requirement already satisfied: importlib-resources>=3.2.0 in c:\\users\\neetu\\anaconda3\\envs\\tddpm\\lib\\site-packages (from matplotlib->catboost==1.0.3->-r requirements.txt (line 1)) (6.1.1)\n",
      "Requirement already satisfied: tenacity>=6.2.0 in c:\\users\\neetu\\anaconda3\\envs\\tddpm\\lib\\site-packages (from plotly->catboost==1.0.3->-r requirements.txt (line 1)) (8.2.3)\n",
      "Requirement already satisfied: attrs>=16.3.0 in c:\\users\\neetu\\anaconda3\\envs\\tddpm\\lib\\site-packages (from cmd2>=1.0.0->cliff->optuna==2.10.1->-r requirements.txt (line 7)) (23.1.0)\n",
      "Requirement already satisfied: pyperclip>=1.6 in c:\\users\\neetu\\anaconda3\\envs\\tddpm\\lib\\site-packages (from cmd2>=1.0.0->cliff->optuna==2.10.1->-r requirements.txt (line 7)) (1.8.2)\n",
      "Requirement already satisfied: wcwidth>=0.1.7 in c:\\users\\neetu\\anaconda3\\envs\\tddpm\\lib\\site-packages (from cmd2>=1.0.0->cliff->optuna==2.10.1->-r requirements.txt (line 7)) (0.2.5)\n",
      "Requirement already satisfied: pyreadline3 in c:\\users\\neetu\\anaconda3\\envs\\tddpm\\lib\\site-packages (from cmd2>=1.0.0->cliff->optuna==2.10.1->-r requirements.txt (line 7)) (3.4.1)\n",
      "Requirement already satisfied: zipp>=0.5 in c:\\users\\neetu\\anaconda3\\envs\\tddpm\\lib\\site-packages (from importlib-metadata>=4.4->cliff->optuna==2.10.1->-r requirements.txt (line 7)) (3.17.0)\n",
      "Requirement already satisfied: pbr!=2.1.0,>=2.0.0 in c:\\users\\neetu\\anaconda3\\envs\\tddpm\\lib\\site-packages (from stevedore>=2.0.1->cliff->optuna==2.10.1->-r requirements.txt (line 7)) (6.0.0)\n",
      "Requirement already satisfied: MarkupSafe>=0.9.2 in c:\\users\\neetu\\anaconda3\\envs\\tddpm\\lib\\site-packages (from Mako->alembic->optuna==2.10.1->-r requirements.txt (line 7)) (2.1.3)\n",
      "Note: you may need to restart the kernel to use updated packages.\n"
     ]
    }
   ],
   "source": [
    "pip install -r requirements.txt"
   ]
  },
  {
   "cell_type": "code",
   "execution_count": 12,
   "id": "52e04d33-a768-46fe-9ea9-8be10b299d56",
   "metadata": {},
   "outputs": [],
   "source": [
    "#!conda env config vars set PYTHONPATH=${PYTHONPATH}:${REPO_DIR}"
   ]
  },
  {
   "cell_type": "code",
   "execution_count": 13,
   "id": "f5846fec-324e-4c92-bc47-8f17ec7ec053",
   "metadata": {},
   "outputs": [],
   "source": [
    "#!conda env config vars set PROJECT_DIR=${REPO_DIR}"
   ]
  },
  {
   "cell_type": "code",
   "execution_count": 12,
   "id": "1be656b4-b633-4dff-b19f-d58942c7c347",
   "metadata": {},
   "outputs": [
    {
     "data": {
      "text/plain": [
       "('data.tar', <http.client.HTTPMessage at 0x24c559de040>)"
      ]
     },
     "execution_count": 12,
     "metadata": {},
     "output_type": "execute_result"
    }
   ],
   "source": [
    "# Download the dataset using Python's urllib\n",
    "import urllib.request\n",
    "url = \"https://www.dropbox.com/s/rpckvcs3vx7j605/data.tar?dl=1\"\n",
    "file_name = \"data.tar\"\n",
    "urllib.request.urlretrieve(url, file_name)\n",
    "## note in original code the url was equal to \"https://www.dropbox.com/s/rpckvcs3vx7j605/data.tar?dl=0,\" but in this case ?dl=0 indicates that the \n",
    "#file should be viewed on the Dropbox website rather than being directly downloaded. so I have changed the ?dl=0 to ?dl=1 in order to download the file."
   ]
  },
  {
   "cell_type": "code",
   "execution_count": 13,
   "id": "68baacc6-bbd6-48a3-87f3-efb6624970b2",
   "metadata": {},
   "outputs": [],
   "source": [
    "# Extract the contents of data.tar\n",
    "import tarfile\n",
    "with tarfile.open(file_name, 'r:*') as tar:\n",
    "    tar.extractall()"
   ]
  },
  {
   "cell_type": "code",
   "execution_count": 14,
   "id": "6d4f8e8d-1ef7-4194-91f4-41edc034bfa3",
   "metadata": {},
   "outputs": [
    {
     "name": "stdout",
     "output_type": "stream",
     "text": [
      "env: CUDA_VISIBLE_DEVICES=0\n"
     ]
    }
   ],
   "source": [
    "%env CUDA_VISIBLE_DEVICES=0"
   ]
  },
  {
   "cell_type": "code",
   "execution_count": 15,
   "id": "512dd1a0-e724-47a4-8273-d8ccfc86e13d",
   "metadata": {},
   "outputs": [
    {
     "name": "stdout",
     "output_type": "stream",
     "text": [
      "env: CUDA_LAUNCH_BLOCKING=1\n"
     ]
    }
   ],
   "source": [
    "%env CUDA_LAUNCH_BLOCKING=1"
   ]
  },
  {
   "cell_type": "code",
   "execution_count": 16,
   "id": "2cb35305-33e7-4f9d-bec2-f29a330d5a4e",
   "metadata": {},
   "outputs": [
    {
     "name": "stdout",
     "output_type": "stream",
     "text": [
      "[3 2 2 2]\n",
      "16\n",
      "{'num_classes': 2, 'is_y_cond': True, 'rtdl_params': {'d_layers': [512, 1024, 1024, 1024, 1024, 512], 'dropout': 0.0}, 'd_in': 16}\n",
      "mlp\n"
     ]
    },
    {
     "name": "stderr",
     "output_type": "stream",
     "text": [
      "Traceback (most recent call last):\n",
      "  File \"C:\\Users\\neetu\\Documents\\Untitled_Folder\\tab-ddpm\\scripts\\pipeline.py\", line 112, in <module>\n",
      "    main()\n",
      "  File \"C:\\Users\\neetu\\Documents\\Untitled_Folder\\tab-ddpm\\scripts\\pipeline.py\", line 48, in main\n",
      "    train(\n",
      "  File \"C:\\Users\\neetu\\Documents\\Untitled_Folder\\tab-ddpm\\scripts\\train.py\", line 127, in train\n",
      "    model.to(device)\n",
      "  File \"C:\\Users\\neetu\\anaconda3\\envs\\tddpm\\lib\\site-packages\\torch\\nn\\modules\\module.py\", line 899, in to\n",
      "    return self._apply(convert)\n",
      "  File \"C:\\Users\\neetu\\anaconda3\\envs\\tddpm\\lib\\site-packages\\torch\\nn\\modules\\module.py\", line 570, in _apply\n",
      "    module._apply(fn)\n",
      "  File \"C:\\Users\\neetu\\anaconda3\\envs\\tddpm\\lib\\site-packages\\torch\\nn\\modules\\module.py\", line 570, in _apply\n",
      "    module._apply(fn)\n",
      "  File \"C:\\Users\\neetu\\anaconda3\\envs\\tddpm\\lib\\site-packages\\torch\\nn\\modules\\module.py\", line 570, in _apply\n",
      "    module._apply(fn)\n",
      "  [Previous line repeated 1 more time]\n",
      "  File \"C:\\Users\\neetu\\anaconda3\\envs\\tddpm\\lib\\site-packages\\torch\\nn\\modules\\module.py\", line 593, in _apply\n",
      "    param_applied = fn(param)\n",
      "  File \"C:\\Users\\neetu\\anaconda3\\envs\\tddpm\\lib\\site-packages\\torch\\nn\\modules\\module.py\", line 897, in convert\n",
      "    return t.to(device, dtype if t.is_floating_point() or t.is_complex() else None, non_blocking)\n",
      "RuntimeError: CUDA error: invalid device ordinal\n"
     ]
    }
   ],
   "source": [
    "!python {REPO_DIR}\\scripts\\pipeline.py --config exp\\churn2\\ddpm_cb_best\\config.toml --train --sample"
   ]
  },
  {
   "cell_type": "code",
   "execution_count": 58,
   "id": "285044da-6d3a-4fd9-a283-fe1b98fe7727",
   "metadata": {},
   "outputs": [
    {
     "name": "stdout",
     "output_type": "stream",
     "text": [
      "['Any', 'ArrayDict', 'CAT_MISSING_VALUE', 'CAT_RARE_VALUE', 'Callable', 'CatEncoding', 'CatNanPolicy', 'Counter', 'DATA', 'Dataset', 'Dict', 'EXP', 'F', 'FastTensorDataLoader', 'LeaveOneOutEncoder', 'List', 'Literal', 'MetricsReport', 'Normalization', 'NumNanPolicy', 'Optional', 'PROJ', 'Part', 'Path', 'Periodic', 'PeriodicOptions', 'PredictionType', 'RawConfig', 'Report', 'SeedsMetricsReport', 'SimpleImputer', 'StandardScaler', 'StandardScaler1d', 'T', 'TabDataset', 'TaskType', 'Tensor', 'TensorDict', 'Timer', 'Transformations', 'Tuple', 'Type', 'TypeVar', 'Union', 'YPolicy', '__builtins__', '__cached__', '__doc__', '__file__', '__loader__', '__name__', '__package__', '__path__', '__spec__', 'argparse', 'asdict', 'astuple', 'atexit', 'backup_output', 'build_dataset', 'build_target', 'calculate_metrics', 'calculate_metrics_', 'calculate_rmse', 'cast', 'cat_drop_rare', 'cat_encode', 'cat_process_nans', 'cdist', 'change_val', 'concat_features', 'concat_to_pd', 'cos_sin', 'data', 'dataclass', 'dataset_from_csv', 'datetime', 'deep', 'deepcopy', 'default_zero_weight_decay_condition', 'dump', 'dump_config', 'dump_json', 'dump_metrics', 'dump_pickle', 'dump_predictions', 'dump_report', 'duplicate_path', 'enum', 'env', 'fields', 'finish', 'format_scores', 'from_dict', 'get_args', 'get_catboost_config', 'get_category_sizes', 'get_device', 'get_loss_fn', 'get_lr', 'get_n_parameters', 'get_origin', 'get_path', 'get_python', 'get_relative_path', 'get_temporary_copy', 'hashlib', 'install', 'is_dataclass', 'is_oom_exception', 'json', 'load', 'load_checkpoint', 'load_config', 'load_dataset_info', 'load_json', 'load_pickle', 'load_predictions', 'load_report', 'make_optimizer', 'make_pipeline', 'metrics', 'nn', 'normalize', 'np', 'num_process_nans', 'optim', 'os', 'pack_config', 'partial', 'path', 'pd', 'pickle', 'pprint', 'prepare_dataloader', 'prepare_fast_dataloader', 'prepare_fast_torch_dataloader', 'prepare_tensors', 'prepare_torch_dataloader', 'process_epoch_losses', 'raise_unknown', 'read_changed_val', 'read_pure_data', 'replace', 'replace_factor_with_value', 'round_columns', 'rtdl', 'scipy', 'shutil', 'sklearn', 'skm', 'split_parameters_by_weight_decay', 'start', 'statistics', 'sys', 'time', 'tomli', 'tomli_w', 'torch', 'train_test_split', 'train_with_auto_virtual_batch', 'transform_dataset', 'ty', 'unpack_config', 'update_training_log', 'util', 'uuid', 'zero']\n"
     ]
    }
   ],
   "source": [
    "import lib\n",
    "print(dir(lib))"
   ]
  },
  {
   "cell_type": "code",
   "execution_count": 50,
   "id": "585733f4-71d6-429a-ad01-60a370d33598",
   "metadata": {},
   "outputs": [],
   "source": [
    "# Assuming your project directory is 'tab-ddpm' within the current working directory\n",
    "#REPO_DIR = os.path.join(REPO_DIR, 'tab-ddpm')\n",
    "\n",
    "# Add the project directory to sys.path\n",
    "#sys.path.append(REPO_DIR)"
   ]
  },
  {
   "cell_type": "code",
   "execution_count": 47,
   "id": "725fea3c-60bc-42ea-8c26-0d262036168b",
   "metadata": {},
   "outputs": [
    {
     "data": {
      "text/plain": [
       "['C:\\\\Users\\\\neetu\\\\Documents\\\\Untitled_Folder',\n",
       " 'C:\\\\Users\\\\neetu\\\\anaconda3\\\\envs\\\\tddpm\\\\python39.zip',\n",
       " 'C:\\\\Users\\\\neetu\\\\anaconda3\\\\envs\\\\tddpm\\\\DLLs',\n",
       " 'C:\\\\Users\\\\neetu\\\\anaconda3\\\\envs\\\\tddpm\\\\lib',\n",
       " 'C:\\\\Users\\\\neetu\\\\anaconda3\\\\envs\\\\tddpm',\n",
       " '',\n",
       " 'C:\\\\Users\\\\neetu\\\\anaconda3\\\\envs\\\\tddpm\\\\lib\\\\site-packages',\n",
       " 'C:\\\\Users\\\\neetu\\\\anaconda3\\\\envs\\\\tddpm\\\\lib\\\\site-packages\\\\win32',\n",
       " 'C:\\\\Users\\\\neetu\\\\anaconda3\\\\envs\\\\tddpm\\\\lib\\\\site-packages\\\\win32\\\\lib',\n",
       " 'C:\\\\Users\\\\neetu\\\\anaconda3\\\\envs\\\\tddpm\\\\lib\\\\site-packages\\\\Pythonwin',\n",
       " 'C:\\\\Users\\\\neetu\\\\Documents\\\\Untitled_Folder\\\\tab-ddpm']"
      ]
     },
     "execution_count": 47,
     "metadata": {},
     "output_type": "execute_result"
    }
   ],
   "source": [
    "import sys\n",
    "sys.path"
   ]
  },
  {
   "cell_type": "code",
   "execution_count": 40,
   "id": "973d3e5b-546d-41d2-86d4-707363cfaa5e",
   "metadata": {},
   "outputs": [
    {
     "name": "stdout",
     "output_type": "stream",
     "text": [
      "Transformations class found in the lib module.\n"
     ]
    }
   ],
   "source": [
    "#Check if the 'Transformations' class exists in the 'lib' module\n",
    "import lib\n",
    "if hasattr(lib, 'Transformations'):\n",
    "    print(\"Transformations class found in the lib module.\")\n",
    "else:\n",
    "    print(\"Transformations class not found in the lib module.\")"
   ]
  },
  {
   "cell_type": "code",
   "execution_count": 17,
   "id": "cac365df-070a-40fc-b990-e6ce73418e7f",
   "metadata": {},
   "outputs": [
    {
     "name": "stdout",
     "output_type": "stream",
     "text": [
      "Number of available GPUs: 1\n",
      "GPU Name: NVIDIA GeForce RTX 4050 Laptop GPU\n"
     ]
    }
   ],
   "source": [
    "import torch\n",
    "\n",
    "# Check if GPU is available\n",
    "if torch.cuda.is_available():\n",
    "    print(f\"Number of available GPUs: {torch.cuda.device_count()}\")\n",
    "    print(f\"GPU Name: {torch.cuda.get_device_name(0)}\")\n",
    "else:\n",
    "    print(\"No GPU available.\")"
   ]
  },
  {
   "cell_type": "code",
   "execution_count": 14,
   "id": "12a8c494-115f-434a-b48d-9084909fa68e",
   "metadata": {},
   "outputs": [
    {
     "name": "stdout",
     "output_type": "stream",
     "text": [
      "env: CUDA_LAUNCH_BLOCKING=1\n"
     ]
    }
   ],
   "source": [
    "%env CUDA_LAUNCH_BLOCKING=1"
   ]
  },
  {
   "cell_type": "code",
   "execution_count": 24,
   "id": "ed86276f-9454-4ccc-8596-e20ff2afc152",
   "metadata": {},
   "outputs": [
    {
     "name": "stdout",
     "output_type": "stream",
     "text": [
      "Name: torch\n",
      "Version: 1.10.1+cu111\n",
      "Summary: Tensors and Dynamic neural networks in Python with strong GPU acceleration\n",
      "Home-page: https://pytorch.org/\n",
      "Author: PyTorch Team\n",
      "Author-email: packages@pytorch.org\n",
      "License: BSD-3\n",
      "Location: c:\\users\\neetu\\anaconda3\\envs\\tddpm\\lib\\site-packages\n",
      "Requires: typing-extensions\n",
      "Required-by: libzero, rtdl\n"
     ]
    }
   ],
   "source": [
    "!pip show torch"
   ]
  },
  {
   "cell_type": "code",
   "execution_count": 26,
   "id": "5464e760-5ecc-41c0-9465-f53add7707a6",
   "metadata": {},
   "outputs": [
    {
     "name": "stdout",
     "output_type": "stream",
     "text": [
      "CUDA Version: 11.1\n"
     ]
    }
   ],
   "source": [
    "import torch\n",
    "\n",
    "# Check CUDA version\n",
    "print(f\"CUDA Version: {torch.version.cuda}\")"
   ]
  },
  {
   "cell_type": "code",
   "execution_count": 20,
   "id": "be60ccec-e9f0-4fdc-ab40-d77d0c66f338",
   "metadata": {},
   "outputs": [
    {
     "name": "stdout",
     "output_type": "stream",
     "text": [
      "^C\n",
      "Looking in links: https://download.pytorch.org/whl/cu111/torch_stable.html\n",
      "Requirement already satisfied: torch==1.10.1+cu111 in c:\\users\\neetu\\anaconda3\\envs\\tddpm\\lib\\site-packages (1.10.1+cu111)\n"
     ]
    },
    {
     "name": "stderr",
     "output_type": "stream",
     "text": [
      "ERROR: Ignored the following yanked versions: 0.1.6, 0.1.7, 0.1.8, 0.1.9, 0.2.0, 0.2.1, 0.2.2, 0.2.2.post2, 0.2.2.post3, 0.11.0, 0.15.0\n",
      "ERROR: Could not find a version that satisfies the requirement torchvision==0.11.2+cu111 (from versions: 0.1.6, 0.2.0, 0.9.0, 0.9.0+cu111, 0.9.1, 0.9.1+cu111, 0.10.0, 0.10.0+cu111, 0.10.1, 0.10.1+cu111, 0.11.1, 0.11.2, 0.11.3, 0.12.0, 0.13.0, 0.13.1, 0.14.0, 0.14.1, 0.15.1, 0.15.2, 0.16.0, 0.16.1, 0.16.2, 0.17.0, 0.17.1)\n",
      "ERROR: No matching distribution found for torchvision==0.11.2+cu111\n"
     ]
    }
   ],
   "source": [
    "!pip uninstall torch\n",
    "!pip install torch==1.10.1+cu111 torchvision==0.11.2+cu111 torchaudio===0.10.1+cu111 -f https://download.pytorch.org/whl/cu111/torch_stable.html"
   ]
  },
  {
   "cell_type": "code",
   "execution_count": 16,
   "id": "e58999e2-34c6-43aa-8587-2cb405415609",
   "metadata": {},
   "outputs": [
    {
     "name": "stdout",
     "output_type": "stream",
     "text": [
      "env: CUDA_VISIBLE_DEVICES=0\n"
     ]
    }
   ],
   "source": [
    "%env CUDA_VISIBLE_DEVICES=0"
   ]
  },
  {
   "cell_type": "code",
   "execution_count": 20,
   "id": "b7789e03-5caf-4bc6-8f2c-855189048e50",
   "metadata": {},
   "outputs": [
    {
     "name": "stdout",
     "output_type": "stream",
     "text": [
      "NVIDIA GeForce RTX 4050 Laptop GPU\n"
     ]
    },
    {
     "data": {
      "text/plain": [
       "True"
      ]
     },
     "execution_count": 20,
     "metadata": {},
     "output_type": "execute_result"
    }
   ],
   "source": [
    "import torch\n",
    "\n",
    "device_name = torch.cuda.get_device_name(0)\n",
    "print(device_name)\n",
    "torch.cuda.is_available()"
   ]
  },
  {
   "cell_type": "code",
   "execution_count": 21,
   "id": "9c276c40-37b4-403a-804e-ca1f135e48bc",
   "metadata": {},
   "outputs": [
    {
     "name": "stdout",
     "output_type": "stream",
     "text": [
      "Number of available GPUs: 1\n",
      "Selected device ordinal 0 is valid.\n"
     ]
    }
   ],
   "source": [
    "import torch\n",
    "\n",
    "# Step 1: Check the number of available GPUs\n",
    "num_gpus = torch.cuda.device_count()\n",
    "print(f\"Number of available GPUs: {num_gpus}\")\n",
    "\n",
    "# Step 2: Verify the selected device ordinal\n",
    "selected_device = 0  # Replace with the desired device ordinal\n",
    "\n",
    "if 0 <= selected_device < num_gpus:\n",
    "    print(f\"Selected device ordinal {selected_device} is valid.\")\n",
    "else:\n",
    "    print(f\"Invalid device ordinal. Please select a device within the range 0 to {num_gpus - 1}.\")\n"
   ]
  },
  {
   "cell_type": "code",
   "execution_count": null,
   "id": "54c5c67c-a1b9-45be-bdeb-246f42e021d2",
   "metadata": {},
   "outputs": [],
   "source": []
  }
 ],
 "metadata": {
  "kernelspec": {
   "display_name": "Python 3 (ipykernel)",
   "language": "python",
   "name": "python3"
  },
  "language_info": {
   "codemirror_mode": {
    "name": "ipython",
    "version": 3
   },
   "file_extension": ".py",
   "mimetype": "text/x-python",
   "name": "python",
   "nbconvert_exporter": "python",
   "pygments_lexer": "ipython3",
   "version": "3.10.13"
  }
 },
 "nbformat": 4,
 "nbformat_minor": 5
}
